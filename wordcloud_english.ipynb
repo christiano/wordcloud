{
 "cells": [
  {
   "cell_type": "code",
   "execution_count": 13,
   "metadata": {
    "collapsed": false
   },
   "outputs": [],
   "source": [
    "# Gerador de word cloud\n",
    "# Propus Data Science\n",
    "# Christiano Anderson\n",
    "\n",
    "import re\n",
    "import nltk\n",
    "from wordcloud import WordCloud\n",
    "import matplotlib.pyplot as plt\n",
    "\n",
    "data = {}\n",
    "\n",
    "data['blog'] = open('banner_twitter.txt','r').read()\n",
    "\n",
    "for k in data.keys():\n",
    "    data[k] = data[k].lower()\n",
    "    \n",
    "# Remove pontuacao\n",
    "for k in data.keys():\n",
    "    data[k] = re.sub(r'[-./?!,\":;()\\']',' ',data[k])\n",
    "    \n",
    "# Remove numeros\n",
    "for k in data.keys():\n",
    "    data[k] = re.sub('[-|0-9]',' ',data[k])\n",
    "    \n",
    "\n",
    "# Stopwords em portugues\n",
    "stopwords = nltk.corpus.stopwords.words('english')\n",
    "\n",
    "for k in data.keys():\n",
    "    data[k] = data[k].split()\n",
    "    \n",
    "for k in data.keys():\n",
    "    data[k] = [ w for w in data[k] if not w in stopwords ]\n",
    "    \n",
    "wordcloud = WordCloud(background_color=\"black\", width = 1600, height = 600).generate(' '.join(data[k]))\n",
    "\n",
    "plt.figure(figsize=(15,8))\n",
    "\n",
    "plt.imshow(wordcloud)\n",
    "    \n",
    "plt.axis(\"off\")\n",
    "\n",
    "plt.show()\n"
   ]
  }
 ],
 "metadata": {
  "kernelspec": {
   "display_name": "Python 3",
   "language": "python",
   "name": "python3"
  },
  "language_info": {
   "codemirror_mode": {
    "name": "ipython",
    "version": 3
   },
   "file_extension": ".py",
   "mimetype": "text/x-python",
   "name": "python",
   "nbconvert_exporter": "python",
   "pygments_lexer": "ipython3",
   "version": "3.5.1"
  }
 },
 "nbformat": 4,
 "nbformat_minor": 0
}
